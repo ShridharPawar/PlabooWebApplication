{
 "cells": [
  {
   "cell_type": "code",
   "execution_count": 4,
   "metadata": {},
   "outputs": [],
   "source": [
    "import pandas as pd\n",
    "import matplotlib.pyplot as plt\n",
    "\n",
    "import warnings\n",
    "warnings.filterwarnings(\"ignore\")"
   ]
  },
  {
   "cell_type": "markdown",
   "metadata": {},
   "source": [
    "# Step 1 \n",
    "\n",
    "The datasets is combined with decompose rate and plastic type/code. For the year-scale attribute is preprocessed. "
   ]
  },
  {
   "cell_type": "code",
   "execution_count": 2,
   "metadata": {},
   "outputs": [
    {
     "data": {
      "text/html": [
       "<div>\n",
       "<style scoped>\n",
       "    .dataframe tbody tr th:only-of-type {\n",
       "        vertical-align: middle;\n",
       "    }\n",
       "\n",
       "    .dataframe tbody tr th {\n",
       "        vertical-align: top;\n",
       "    }\n",
       "\n",
       "    .dataframe thead th {\n",
       "        text-align: right;\n",
       "    }\n",
       "</style>\n",
       "<table border=\"1\" class=\"dataframe\">\n",
       "  <thead>\n",
       "    <tr style=\"text-align: right;\">\n",
       "      <th></th>\n",
       "      <th>index</th>\n",
       "      <th>item</th>\n",
       "      <th>time</th>\n",
       "      <th>year-scale</th>\n",
       "      <th>plasticType</th>\n",
       "      <th>plasticCode</th>\n",
       "    </tr>\n",
       "  </thead>\n",
       "  <tbody>\n",
       "    <tr>\n",
       "      <th>0</th>\n",
       "      <td>1</td>\n",
       "      <td>Paper Plate</td>\n",
       "      <td>1 week- 2 months</td>\n",
       "      <td>0.1</td>\n",
       "      <td>PP</td>\n",
       "      <td>5</td>\n",
       "    </tr>\n",
       "    <tr>\n",
       "      <th>1</th>\n",
       "      <td>2</td>\n",
       "      <td>Banana/Orange peel</td>\n",
       "      <td>2-5 weeks</td>\n",
       "      <td>0.1</td>\n",
       "      <td>Non-plastic</td>\n",
       "      <td>0</td>\n",
       "    </tr>\n",
       "    <tr>\n",
       "      <th>2</th>\n",
       "      <td>3</td>\n",
       "      <td>Cotton Rag</td>\n",
       "      <td>1-5 months</td>\n",
       "      <td>0.3</td>\n",
       "      <td>Non-plastic</td>\n",
       "      <td>0</td>\n",
       "    </tr>\n",
       "    <tr>\n",
       "      <th>3</th>\n",
       "      <td>4</td>\n",
       "      <td>Rope</td>\n",
       "      <td>3- 14 months</td>\n",
       "      <td>1.0</td>\n",
       "      <td>PET</td>\n",
       "      <td>1</td>\n",
       "    </tr>\n",
       "    <tr>\n",
       "      <th>4</th>\n",
       "      <td>5</td>\n",
       "      <td>Newspaper</td>\n",
       "      <td>3-6 months</td>\n",
       "      <td>0.5</td>\n",
       "      <td>Non-plastic</td>\n",
       "      <td>0</td>\n",
       "    </tr>\n",
       "  </tbody>\n",
       "</table>\n",
       "</div>"
      ],
      "text/plain": [
       "   index                item              time  year-scale  plasticType  \\\n",
       "0      1         Paper Plate  1 week- 2 months         0.1           PP   \n",
       "1      2  Banana/Orange peel         2-5 weeks         0.1  Non-plastic   \n",
       "2      3          Cotton Rag        1-5 months         0.3  Non-plastic   \n",
       "3      4                Rope      3- 14 months         1.0          PET   \n",
       "4      5           Newspaper        3-6 months         0.5  Non-plastic   \n",
       "\n",
       "   plasticCode  \n",
       "0            5  \n",
       "1            0  \n",
       "2            0  \n",
       "3            1  \n",
       "4            0  "
      ]
     },
     "execution_count": 2,
     "metadata": {},
     "output_type": "execute_result"
    }
   ],
   "source": [
    "df = pd.read_csv('#1decomposeRate.csv')\n",
    "df.head()"
   ]
  },
  {
   "cell_type": "markdown",
   "metadata": {},
   "source": [
    "# Step 2\n",
    "\n",
    "Check the distribution of year-scale for next use. From that, the original item is listed about the year facter and the item type factor."
   ]
  },
  {
   "cell_type": "code",
   "execution_count": 3,
   "metadata": {},
   "outputs": [
    {
     "data": {
      "text/plain": [
       "(array([17.,  5.,  1.,  2.,  7.,  1.,  0.,  0.,  0.,  1.]),\n",
       " array([5.00000e-02, 1.00045e+02, 2.00040e+02, 3.00035e+02, 4.00030e+02,\n",
       "        5.00025e+02, 6.00020e+02, 7.00015e+02, 8.00010e+02, 9.00005e+02,\n",
       "        1.00000e+03]),\n",
       " <a list of 10 Patch objects>)"
      ]
     },
     "execution_count": 3,
     "metadata": {},
     "output_type": "execute_result"
    },
    {
     "data": {
      "image/png": "[encoded data removed]",
      "text/plain": [
       "<Figure size 432x288 with 1 Axes>"
      ]
     },
     "metadata": {
      "needs_background": "light"
     },
     "output_type": "display_data"
    }
   ],
   "source": [
    "plt.hist(df['year-scale'],bins=10)"
   ]
  },
  {
   "cell_type": "code",
   "execution_count": 6,
   "metadata": {},
   "outputs": [
    {
     "data": {
      "text/plain": [
       "(array([12.,  3.,  1.,  0.,  0.,  3.,  0.,  6.,  4.,  5.]),\n",
       " array([0. , 0.7, 1.4, 2.1, 2.8, 3.5, 4.2, 4.9, 5.6, 6.3, 7. ]),\n",
       " <a list of 10 Patch objects>)"
      ]
     },
     "execution_count": 6,
     "metadata": {},
     "output_type": "execute_result"
    },
    {
     "data": {
      "image/png": "[encoded data removed]",
      "text/plain": [
       "<Figure size 432x288 with 1 Axes>"
      ]
     },
     "metadata": {
      "needs_background": "light"
     },
     "output_type": "display_data"
    }
   ],
   "source": [
    "plt.hist(df['plasticCode'],bins=10)"
   ]
  },
  {
   "cell_type": "markdown",
   "metadata": {},
   "source": [
    "# Step 3\n",
    "\n",
    "Normalize decomposition rate (which presented as year-scale) and item types (which prsented as plastic code) in the same scale level."
   ]
  },
  {
   "cell_type": "code",
   "execution_count": 7,
   "metadata": {},
   "outputs": [],
   "source": [
    "from sklearn import preprocessing\n",
    "timescaled = preprocessing.scale(df['year-scale'])\n",
    "codescaled = preprocessing.scale(df['plasticCode'])"
   ]
  },
  {
   "cell_type": "code",
   "execution_count": 8,
   "metadata": {},
   "outputs": [
    {
     "data": {
      "text/html": [
       "<div>\n",
       "<style scoped>\n",
       "    .dataframe tbody tr th:only-of-type {\n",
       "        vertical-align: middle;\n",
       "    }\n",
       "\n",
       "    .dataframe tbody tr th {\n",
       "        vertical-align: top;\n",
       "    }\n",
       "\n",
       "    .dataframe thead th {\n",
       "        text-align: right;\n",
       "    }\n",
       "</style>\n",
       "<table border=\"1\" class=\"dataframe\">\n",
       "  <thead>\n",
       "    <tr style=\"text-align: right;\">\n",
       "      <th></th>\n",
       "      <th>index</th>\n",
       "      <th>year-scale</th>\n",
       "      <th>plasticCode</th>\n",
       "      <th>timescaled</th>\n",
       "      <th>codescaled</th>\n",
       "    </tr>\n",
       "  </thead>\n",
       "  <tbody>\n",
       "    <tr>\n",
       "      <th>count</th>\n",
       "      <td>34.000000</td>\n",
       "      <td>34.000000</td>\n",
       "      <td>34.000000</td>\n",
       "      <td>3.400000e+01</td>\n",
       "      <td>3.400000e+01</td>\n",
       "    </tr>\n",
       "    <tr>\n",
       "      <th>mean</th>\n",
       "      <td>17.500000</td>\n",
       "      <td>214.611765</td>\n",
       "      <td>3.117647</td>\n",
       "      <td>-9.143013e-17</td>\n",
       "      <td>1.306145e-17</td>\n",
       "    </tr>\n",
       "    <tr>\n",
       "      <th>std</th>\n",
       "      <td>9.958246</td>\n",
       "      <td>247.210405</td>\n",
       "      <td>2.825905</td>\n",
       "      <td>1.015038e+00</td>\n",
       "      <td>1.015038e+00</td>\n",
       "    </tr>\n",
       "    <tr>\n",
       "      <th>min</th>\n",
       "      <td>1.000000</td>\n",
       "      <td>0.050000</td>\n",
       "      <td>0.000000</td>\n",
       "      <td>-8.809841e-01</td>\n",
       "      <td>-1.119829e+00</td>\n",
       "    </tr>\n",
       "    <tr>\n",
       "      <th>25%</th>\n",
       "      <td>9.250000</td>\n",
       "      <td>1.050000</td>\n",
       "      <td>0.000000</td>\n",
       "      <td>-8.768781e-01</td>\n",
       "      <td>-1.119829e+00</td>\n",
       "    </tr>\n",
       "    <tr>\n",
       "      <th>50%</th>\n",
       "      <td>17.500000</td>\n",
       "      <td>125.000000</td>\n",
       "      <td>4.000000</td>\n",
       "      <td>-3.679432e-01</td>\n",
       "      <td>3.169328e-01</td>\n",
       "    </tr>\n",
       "    <tr>\n",
       "      <th>75%</th>\n",
       "      <td>25.750000</td>\n",
       "      <td>437.500000</td>\n",
       "      <td>5.750000</td>\n",
       "      <td>9.151723e-01</td>\n",
       "      <td>9.455163e-01</td>\n",
       "    </tr>\n",
       "    <tr>\n",
       "      <th>max</th>\n",
       "      <td>34.000000</td>\n",
       "      <td>1000.000000</td>\n",
       "      <td>7.000000</td>\n",
       "      <td>3.224780e+00</td>\n",
       "      <td>1.394505e+00</td>\n",
       "    </tr>\n",
       "  </tbody>\n",
       "</table>\n",
       "</div>"
      ],
      "text/plain": [
       "           index   year-scale  plasticCode    timescaled    codescaled\n",
       "count  34.000000    34.000000    34.000000  3.400000e+01  3.400000e+01\n",
       "mean   17.500000   214.611765     3.117647 -9.143013e-17  1.306145e-17\n",
       "std     9.958246   247.210405     2.825905  1.015038e+00  1.015038e+00\n",
       "min     1.000000     0.050000     0.000000 -8.809841e-01 -1.119829e+00\n",
       "25%     9.250000     1.050000     0.000000 -8.768781e-01 -1.119829e+00\n",
       "50%    17.500000   125.000000     4.000000 -3.679432e-01  3.169328e-01\n",
       "75%    25.750000   437.500000     5.750000  9.151723e-01  9.455163e-01\n",
       "max    34.000000  1000.000000     7.000000  3.224780e+00  1.394505e+00"
      ]
     },
     "execution_count": 8,
     "metadata": {},
     "output_type": "execute_result"
    }
   ],
   "source": [
    "df['timescaled']=timescaled\n",
    "df['codescaled']=codescaled\n",
    "df.describe()"
   ]
  },
  {
   "cell_type": "markdown",
   "metadata": {},
   "source": [
    "# Step 4 \n",
    "\n",
    "Choose the presentive item from random selection. Train dataset is based from exsting data and would find the relative harm index in their scale. The harm index in train may have subjective issue. Since the train dataset is small. In this step, it just implement simple validation. "
   ]
  },
  {
   "cell_type": "code",
   "execution_count": 72,
   "metadata": {},
   "outputs": [
    {
     "data": {
      "text/html": [
       "<div>\n",
       "<style scoped>\n",
       "    .dataframe tbody tr th:only-of-type {\n",
       "        vertical-align: middle;\n",
       "    }\n",
       "\n",
       "    .dataframe tbody tr th {\n",
       "        vertical-align: top;\n",
       "    }\n",
       "\n",
       "    .dataframe thead th {\n",
       "        text-align: right;\n",
       "    }\n",
       "</style>\n",
       "<table border=\"1\" class=\"dataframe\">\n",
       "  <thead>\n",
       "    <tr style=\"text-align: right;\">\n",
       "      <th></th>\n",
       "      <th>index</th>\n",
       "      <th>item</th>\n",
       "      <th>time</th>\n",
       "      <th>year-scale</th>\n",
       "      <th>plasticType</th>\n",
       "      <th>plasticCode</th>\n",
       "      <th>timescaled</th>\n",
       "      <th>codescaled</th>\n",
       "      <th>harmIndex</th>\n",
       "    </tr>\n",
       "  </thead>\n",
       "  <tbody>\n",
       "    <tr>\n",
       "      <th>0</th>\n",
       "      <td>9</td>\n",
       "      <td>Plastic bag</td>\n",
       "      <td>10-20 years</td>\n",
       "      <td>15.00</td>\n",
       "      <td>LDPE</td>\n",
       "      <td>4</td>\n",
       "      <td>-0.819600</td>\n",
       "      <td>0.316933</td>\n",
       "      <td>2</td>\n",
       "    </tr>\n",
       "    <tr>\n",
       "      <th>1</th>\n",
       "      <td>28</td>\n",
       "      <td>yogurt cups</td>\n",
       "      <td>200 years</td>\n",
       "      <td>200.00</td>\n",
       "      <td>PP</td>\n",
       "      <td>5</td>\n",
       "      <td>-0.059995</td>\n",
       "      <td>0.676123</td>\n",
       "      <td>4</td>\n",
       "    </tr>\n",
       "    <tr>\n",
       "      <th>2</th>\n",
       "      <td>6</td>\n",
       "      <td>Carry-out food bag</td>\n",
       "      <td>4-8 month</td>\n",
       "      <td>0.60</td>\n",
       "      <td>LDPE</td>\n",
       "      <td>4</td>\n",
       "      <td>-0.878726</td>\n",
       "      <td>0.316933</td>\n",
       "      <td>1</td>\n",
       "    </tr>\n",
       "    <tr>\n",
       "      <th>3</th>\n",
       "      <td>31</td>\n",
       "      <td>electronic items</td>\n",
       "      <td>500 years</td>\n",
       "      <td>500.00</td>\n",
       "      <td>PS</td>\n",
       "      <td>6</td>\n",
       "      <td>1.171795</td>\n",
       "      <td>1.035314</td>\n",
       "      <td>5</td>\n",
       "    </tr>\n",
       "    <tr>\n",
       "      <th>4</th>\n",
       "      <td>17</td>\n",
       "      <td>Toilet Paper/Napkins</td>\n",
       "      <td>1-3 weeks</td>\n",
       "      <td>0.05</td>\n",
       "      <td>Non-plastic</td>\n",
       "      <td>0</td>\n",
       "      <td>-0.880984</td>\n",
       "      <td>-1.119829</td>\n",
       "      <td>1</td>\n",
       "    </tr>\n",
       "  </tbody>\n",
       "</table>\n",
       "</div>"
      ],
      "text/plain": [
       "   index                  item         time  year-scale  plasticType  \\\n",
       "0      9           Plastic bag  10-20 years       15.00         LDPE   \n",
       "1     28           yogurt cups    200 years      200.00           PP   \n",
       "2      6    Carry-out food bag    4-8 month        0.60         LDPE   \n",
       "3     31      electronic items    500 years      500.00           PS   \n",
       "4     17  Toilet Paper/Napkins    1-3 weeks        0.05  Non-plastic   \n",
       "\n",
       "   plasticCode  timescaled  codescaled  harmIndex  \n",
       "0            4   -0.819600    0.316933          2  \n",
       "1            5   -0.059995    0.676123          4  \n",
       "2            4   -0.878726    0.316933          1  \n",
       "3            6    1.171795    1.035314          5  \n",
       "4            0   -0.880984   -1.119829          1  "
      ]
     },
     "execution_count": 72,
     "metadata": {},
     "output_type": "execute_result"
    }
   ],
   "source": [
    "# train and test ready \n",
    "train = pd.read_csv('train.csv')\n",
    "train.head()\n",
    "#train.to_csv('train.csv',index=False)"
   ]
  },
  {
   "cell_type": "code",
   "execution_count": 56,
   "metadata": {},
   "outputs": [
    {
     "data": {
      "text/html": [
       "<div>\n",
       "<style scoped>\n",
       "    .dataframe tbody tr th:only-of-type {\n",
       "        vertical-align: middle;\n",
       "    }\n",
       "\n",
       "    .dataframe tbody tr th {\n",
       "        vertical-align: top;\n",
       "    }\n",
       "\n",
       "    .dataframe thead th {\n",
       "        text-align: right;\n",
       "    }\n",
       "</style>\n",
       "<table border=\"1\" class=\"dataframe\">\n",
       "  <thead>\n",
       "    <tr style=\"text-align: right;\">\n",
       "      <th></th>\n",
       "      <th>index</th>\n",
       "      <th>item</th>\n",
       "      <th>time</th>\n",
       "      <th>year-scale</th>\n",
       "      <th>plasticType</th>\n",
       "      <th>plasticCode</th>\n",
       "      <th>timescaled</th>\n",
       "      <th>codescaled</th>\n",
       "    </tr>\n",
       "  </thead>\n",
       "  <tbody>\n",
       "    <tr>\n",
       "      <th>17</th>\n",
       "      <td>18</td>\n",
       "      <td>Plastic cup</td>\n",
       "      <td>450 years</td>\n",
       "      <td>450.0</td>\n",
       "      <td>PS</td>\n",
       "      <td>6</td>\n",
       "      <td>0.966497</td>\n",
       "      <td>1.035314</td>\n",
       "    </tr>\n",
       "    <tr>\n",
       "      <th>18</th>\n",
       "      <td>19</td>\n",
       "      <td>Coffe pod</td>\n",
       "      <td>500 years</td>\n",
       "      <td>500.0</td>\n",
       "      <td>PS</td>\n",
       "      <td>6</td>\n",
       "      <td>1.171795</td>\n",
       "      <td>1.035314</td>\n",
       "    </tr>\n",
       "    <tr>\n",
       "      <th>19</th>\n",
       "      <td>20</td>\n",
       "      <td>Plastic water bottle</td>\n",
       "      <td>450 years</td>\n",
       "      <td>450.0</td>\n",
       "      <td>PET</td>\n",
       "      <td>1</td>\n",
       "      <td>0.966497</td>\n",
       "      <td>-0.760639</td>\n",
       "    </tr>\n",
       "    <tr>\n",
       "      <th>20</th>\n",
       "      <td>21</td>\n",
       "      <td>plastic straw</td>\n",
       "      <td>200 years</td>\n",
       "      <td>200.0</td>\n",
       "      <td>PP</td>\n",
       "      <td>5</td>\n",
       "      <td>-0.059995</td>\n",
       "      <td>0.676123</td>\n",
       "    </tr>\n",
       "    <tr>\n",
       "      <th>21</th>\n",
       "      <td>22</td>\n",
       "      <td>6-pack plastic rings</td>\n",
       "      <td>400 years</td>\n",
       "      <td>400.0</td>\n",
       "      <td>PP</td>\n",
       "      <td>5</td>\n",
       "      <td>0.761198</td>\n",
       "      <td>0.676123</td>\n",
       "    </tr>\n",
       "  </tbody>\n",
       "</table>\n",
       "</div>"
      ],
      "text/plain": [
       "    index                  item       time  year-scale plasticType  \\\n",
       "17     18           Plastic cup  450 years       450.0          PS   \n",
       "18     19             Coffe pod  500 years       500.0          PS   \n",
       "19     20  Plastic water bottle  450 years       450.0         PET   \n",
       "20     21        plastic straw   200 years       200.0          PP   \n",
       "21     22  6-pack plastic rings  400 years       400.0          PP   \n",
       "\n",
       "    plasticCode  timescaled  codescaled  \n",
       "17            6    0.966497    1.035314  \n",
       "18            6    1.171795    1.035314  \n",
       "19            1    0.966497   -0.760639  \n",
       "20            5   -0.059995    0.676123  \n",
       "21            5    0.761198    0.676123  "
      ]
     },
     "execution_count": 56,
     "metadata": {},
     "output_type": "execute_result"
    }
   ],
   "source": [
    "test = df[~df.index.isin(train.index)]\n",
    "test.head()"
   ]
  },
  {
   "cell_type": "code",
   "execution_count": 52,
   "metadata": {},
   "outputs": [],
   "source": [
    "x_train = train[['timescaled','codescaled']]\n",
    "y_train = train['harmIndex']"
   ]
  },
  {
   "cell_type": "markdown",
   "metadata": {},
   "source": [
    "# Step 5 \n",
    "Model selection. For this question, use general linear regression and classify would work for this situation."
   ]
  },
  {
   "cell_type": "code",
   "execution_count": 53,
   "metadata": {},
   "outputs": [
    {
     "name": "stdout",
     "output_type": "stream",
     "text": [
      "Nearest Neighbors  :  0.7058823529411765\n",
      "Linear SVM  :  0.29411764705882354\n",
      "RBF SVM  :  0.7647058823529411\n",
      "Decision Tree  :  1.0\n",
      "Random Forest  :  1.0\n",
      "Neural Net  :  0.7647058823529411\n",
      "AdaBoost  :  0.7058823529411765\n",
      "Naive Bayes  :  1.0\n",
      "LinearLasso  :  0.8089009310874775\n"
     ]
    }
   ],
   "source": [
    "from sklearn.neural_network import MLPClassifier\n",
    "from sklearn import linear_model\n",
    "from sklearn.neighbors import KNeighborsClassifier\n",
    "from sklearn.svm import SVC\n",
    "from sklearn.gaussian_process.kernels import RBF\n",
    "from sklearn.tree import DecisionTreeClassifier\n",
    "from sklearn.ensemble import RandomForestClassifier, AdaBoostClassifier\n",
    "from sklearn.naive_bayes import GaussianNB\n",
    "from sklearn.discriminant_analysis import QuadraticDiscriminantAnalysis\n",
    "names = [\"Nearest Neighbors\", \"Linear SVM\", \"RBF SVM\",\n",
    "         \"Decision Tree\", \"Random Forest\", \"Neural Net\", \"AdaBoost\",\n",
    "         \"Naive Bayes\",'LinearLasso']\n",
    "packages = [\n",
    "    KNeighborsClassifier(3),\n",
    "    SVC(kernel=\"linear\", C=0.025),\n",
    "    SVC(gamma=2, C=1),\n",
    "    DecisionTreeClassifier(max_depth=5),\n",
    "    RandomForestClassifier(max_depth=5, n_estimators=10, max_features=1),\n",
    "    MLPClassifier(alpha=1, max_iter=1000),\n",
    "    AdaBoostClassifier(),\n",
    "    GaussianNB(),\n",
    "    linear_model.Lasso(alpha=0.26)]\n",
    "for name, clf in zip(names,packages):\n",
    "    clf.fit(x_train, y_train)\n",
    "    score = clf.score(x_train, y_train) # Since the train set is small, only compare it with itself\n",
    "    print(name ,\" : \", score)"
   ]
  },
  {
   "cell_type": "markdown",
   "metadata": {},
   "source": [
    "In this case, use LinearLasso for next step. "
   ]
  },
  {
   "cell_type": "code",
   "execution_count": 54,
   "metadata": {},
   "outputs": [
    {
     "data": {
      "text/plain": [
       "Lasso(alpha=0.26, copy_X=True, fit_intercept=True, max_iter=1000,\n",
       "      normalize=False, positive=False, precompute=False, random_state=None,\n",
       "      selection='cyclic', tol=0.0001, warm_start=False)"
      ]
     },
     "execution_count": 54,
     "metadata": {},
     "output_type": "execute_result"
    }
   ],
   "source": [
    "reg = linear_model.Lasso(alpha=0.26)\n",
    "reg.fit(x_train, y_train)"
   ]
  },
  {
   "cell_type": "markdown",
   "metadata": {},
   "source": [
    "The parameters for linear regression "
   ]
  },
  {
   "cell_type": "code",
   "execution_count": 55,
   "metadata": {},
   "outputs": [
    {
     "name": "stdout",
     "output_type": "stream",
     "text": [
      "[1.26845566 0.01314232]\n",
      "3.1294208731712287\n"
     ]
    }
   ],
   "source": [
    "print(reg.coef_)\n",
    "print(reg.intercept_)"
   ]
  },
  {
   "cell_type": "code",
   "execution_count": 63,
   "metadata": {},
   "outputs": [],
   "source": [
    "res = []\n",
    "y = reg.predict(test[['timescaled','codescaled']])\n",
    "for i in y:\n",
    "    if i < 2:\n",
    "        res.append(1)\n",
    "    elif i > 5:\n",
    "        res.append(5)\n",
    "    else:\n",
    "        res.append(int(round(i)))"
   ]
  },
  {
   "cell_type": "code",
   "execution_count": 64,
   "metadata": {},
   "outputs": [],
   "source": [
    "test['harmIndex'] = res"
   ]
  },
  {
   "cell_type": "code",
   "execution_count": 82,
   "metadata": {},
   "outputs": [],
   "source": [
    "cleanindex = train.append(test)"
   ]
  },
  {
   "cell_type": "code",
   "execution_count": 85,
   "metadata": {},
   "outputs": [],
   "source": [
    "cleanindex.sort_values(by=['index'], inplace=True, ascending=True)\n",
    "cleanindex.to_csv('cleanIndex.csv',index=False)"
   ]
  },
  {
   "cell_type": "markdown",
   "metadata": {},
   "source": [
    "# Step 6 \n",
    "\n",
    "Give harm index for selected plastic items. Based on the predict harm index, find the related or exsting item in data set, which would have the selected item index.\n"
   ]
  }
 ],
 "metadata": {
  "kernelspec": {
   "display_name": "Python 3",
   "language": "python",
   "name": "python3"
  },
  "language_info": {
   "codemirror_mode": {
    "name": "ipython",
    "version": 3
   },
   "file_extension": ".py",
   "mimetype": "text/x-python",
   "name": "python",
   "nbconvert_exporter": "python",
   "pygments_lexer": "ipython3",
   "version": "3.7.6"
  }
 },
 "nbformat": 4,
 "nbformat_minor": 4
}
